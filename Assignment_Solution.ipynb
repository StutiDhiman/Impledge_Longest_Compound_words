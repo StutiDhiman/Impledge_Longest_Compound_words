{
 "cells": [
  {
   "cell_type": "code",
   "execution_count": 7,
   "id": "279ed791-fa4a-433e-9db6-8888ace72f82",
   "metadata": {},
   "outputs": [
    {
     "name": "stdout",
     "output_type": "stream",
     "text": [
      "Assignment Done\n",
      "Processing file: Input_01.txt\n",
      "Longest compounded word: ratcatdogcat\n",
      "Second longest compounded word: catsdogcats\n",
      "Time taken: 0.00 seconds\n",
      "\n",
      "Processing file: Input_02.txt\n",
      "Longest compounded word: ethylenediaminetetraacetates\n",
      "Second longest compounded word: electroencephalographically\n",
      "Time taken: 0.71 seconds\n",
      "\n"
     ]
    }
   ],
   "source": [
    "import time\n",
    "from typing import List\n",
    "\n",
    "def read_words_from_file(filename: str) -> List[str]:\n",
    "    with open(filename, 'r') as file:\n",
    "        return [line.strip() for line in file]\n",
    "\n",
    "def form_word(word: str, word_set: set, original_word: str) -> bool:\n",
    "    if word in word_set and word != original_word:\n",
    "        return True\n",
    "    for i in range(1, len(word)):\n",
    "        prefix = word[:i]\n",
    "        suffix = word[i:]\n",
    "        if prefix in word_set and form_word(suffix, word_set, original_word):\n",
    "            return True\n",
    "    return False\n",
    "\n",
    "def find_longest_compounded_words(word_list: List[str]):\n",
    "    word_set = set(word_list)\n",
    "    compounded_words = []\n",
    "\n",
    "    for word in word_list:\n",
    "        if form_word(word, word_set, word):\n",
    "            compounded_words.append(word)\n",
    "\n",
    "    compounded_words.sort(key=len, reverse=True)\n",
    "\n",
    "    longest = compounded_words[0] if compounded_words else None\n",
    "    second_longest = compounded_words[1] if len(compounded_words) > 1 else None\n",
    "\n",
    "    return longest, second_longest\n",
    "\n",
    "def main():\n",
    "    input_files = [\"Input_01.txt\", \"Input_02.txt\"]\n",
    "\n",
    "    for input_file in input_files:\n",
    "        try:\n",
    "            print(f\"Processing file: {input_file}\")\n",
    "            start_time = time.time()\n",
    "            words = read_words_from_file(input_file)\n",
    "            longest, second_longest = find_longest_compounded_words(words)\n",
    "            end_time = time.time()\n",
    "            time_taken = end_time - start_time\n",
    "\n",
    "            print(f\"Longest compounded word: {longest}\")\n",
    "            print(f\"Second longest compounded word: {second_longest}\")\n",
    "            print(f\"Time taken: {time_taken:.2f} seconds\\n\")\n",
    "\n",
    "        except FileNotFoundError:\n",
    "            print(f\"File not found: {input_file}\\n\")\n",
    "\n",
    "if __name__ == \"__main__\":\n",
    "    print(\"Assignment Done\")\n",
    "    main()"
   ]
  },
  {
   "cell_type": "code",
   "execution_count": null,
   "id": "62020311-8b90-46c0-8f92-1e935acf08c1",
   "metadata": {},
   "outputs": [],
   "source": []
  }
 ],
 "metadata": {
  "kernelspec": {
   "display_name": "Python 3 (ipykernel)",
   "language": "python",
   "name": "python3"
  },
  "language_info": {
   "codemirror_mode": {
    "name": "ipython",
    "version": 3
   },
   "file_extension": ".py",
   "mimetype": "text/x-python",
   "name": "python",
   "nbconvert_exporter": "python",
   "pygments_lexer": "ipython3",
   "version": "3.12.1"
  }
 },
 "nbformat": 4,
 "nbformat_minor": 5
}
